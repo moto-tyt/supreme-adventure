{
 "cells": [
  {
   "cell_type": "code",
   "execution_count": 135,
   "id": "edf1140b",
   "metadata": {},
   "outputs": [],
   "source": [
    "import torch\n",
    "\n",
    "# 1) Setup (leaf params require grad)\n",
    "w = torch.tensor(2.0, requires_grad=True)\n",
    "b = torch.tensor(1.0, requires_grad=True)\n",
    "\n",
    "# Fixed inputs/targets do NOT need grad\n",
    "x = torch.tensor(3.0)\n",
    "y = torch.tensor(4.0)\n",
    "\n",
    "# Simple helper\n",
    "def forward(w, b):\n",
    "    z = w * x + b\n",
    "    loss = 0.5 * (z - y) ** 2   # 0.5 trick so dL/dz = (z - y)\n",
    "    return z, loss\n",
    "\n",
    "\n"
   ]
  },
  {
   "cell_type": "code",
   "execution_count": 240,
   "id": "a764e96f",
   "metadata": {},
   "outputs": [
    {
     "name": "stdout",
     "output_type": "stream",
     "text": [
      "After backward #1\n",
      "w.grad: tensor(0.0002)\n",
      "b.grad: tensor(5.2452e-05)\n",
      "z1 tensor(4.0001, grad_fn=<AddBackward0>)\n",
      "w tensor(1.1000, requires_grad=True)\n",
      "b tensor(0.7000, requires_grad=True)\n"
     ]
    },
    {
     "data": {
      "text/plain": [
       "tensor(0.)"
      ]
     },
     "execution_count": 240,
     "metadata": {},
     "output_type": "execute_result"
    }
   ],
   "source": [
    "z1, loss1 = forward(w, b)\n",
    "loss1.backward()                         # <-- grads are written here\n",
    "\n",
    "print(\"After backward #1\")\n",
    "print(\"w.grad:\", w.grad)                 # nonzero\n",
    "print(\"b.grad:\", b.grad)\n",
    "print(\"z1\", z1)\n",
    "print(\"w\", w)\n",
    "print(\"b\", b)\n",
    "\n",
    "# (optional) parameter update\n",
    "lr = 0.01\n",
    "with torch.no_grad():                    # <-- important!\n",
    "    w -= lr * w.grad\n",
    "    b -= lr * b.grad\n",
    "\n",
    "# Gradients ACCUMULATE by default; you usually clear them next:\n",
    "w.grad.zero_()\n",
    "b.grad.zero_()"
   ]
  }
 ],
 "metadata": {
  "kernelspec": {
   "display_name": "Python 3",
   "language": "python",
   "name": "python3"
  },
  "language_info": {
   "codemirror_mode": {
    "name": "ipython",
    "version": 3
   },
   "file_extension": ".py",
   "mimetype": "text/x-python",
   "name": "python",
   "nbconvert_exporter": "python",
   "pygments_lexer": "ipython3",
   "version": "3.12.11"
  }
 },
 "nbformat": 4,
 "nbformat_minor": 5
}
