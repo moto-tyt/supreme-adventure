{
 "cells": [
  {
   "cell_type": "code",
   "execution_count": 10,
   "id": "6c3a3e9b",
   "metadata": {},
   "outputs": [
    {
     "name": "stdout",
     "output_type": "stream",
     "text": [
      "w0 =  0.2 w1 =  -0.6 w2 =  0.25\n"
     ]
    }
   ],
   "source": [
    "import random\n",
    "\n",
    "def show_learning(w):\n",
    "    print(\"w0 = \", w[0], \"w1 = \", w[1], \"w2 = \", w[2])\n",
    "\n",
    "random.seed(7)\n",
    "LEARNING_RATE = 0.1\n",
    "index_list = [0, 1, 2, 3]\n",
    "\n",
    "x_train = [(1.0, -1.0, -1.0), (1.0, -1.0, 1.0), (1.0, 1.0, -1.0), (1.0, 1.0, 1.0)]\n",
    "y_train = [1.0, 1.0, 1.0, -1.0] #ground truth\n",
    "\n",
    "w = [0.2, -0.6, 0.25] #Initialize to random number\n",
    "\n",
    "show_learning(w)"
   ]
  },
  {
   "cell_type": "code",
   "execution_count": 12,
   "id": "6e8383a0",
   "metadata": {},
   "outputs": [],
   "source": [
    "from perceptron import compute_output\n",
    "\n",
    "all_correct = False\n",
    "while not all_correct:\n",
    "    all_correct = True\n",
    "    random.shuffle(index_list)\n",
    "    for i in index_list:\n",
    "        x = x_train[i]\n",
    "        y = y_train[i]\n",
    "        p_out = compute_output(w, x)\n",
    "\n",
    "        if y != p_out:\n",
    "            for j in range(0, len(w)):\n",
    "                w[j] += (y * LEARNING_RATE * x[j])\n",
    "            all_correct = False\n",
    "            show_learning(w)"
   ]
  }
 ],
 "metadata": {
  "kernelspec": {
   "display_name": "Python 3",
   "language": "python",
   "name": "python3"
  },
  "language_info": {
   "codemirror_mode": {
    "name": "ipython",
    "version": 3
   },
   "file_extension": ".py",
   "mimetype": "text/x-python",
   "name": "python",
   "nbconvert_exporter": "python",
   "pygments_lexer": "ipython3",
   "version": "3.12.11"
  }
 },
 "nbformat": 4,
 "nbformat_minor": 5
}
