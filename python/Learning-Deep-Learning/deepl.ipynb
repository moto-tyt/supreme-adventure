{
 "cells": [
  {
   "cell_type": "markdown",
   "id": "cce912ce",
   "metadata": {},
   "source": [
    "# Chapter 1 Perceptron\n",
    "\n",
    "## Start with Signum Function"
   ]
  },
  {
   "cell_type": "code",
   "execution_count": 3,
   "id": "85876083",
   "metadata": {},
   "outputs": [],
   "source": [
    "def signum(x):\n",
    "    if x < 0:\n",
    "        return -1\n",
    "    else:\n",
    "        return 1"
   ]
  },
  {
   "cell_type": "markdown",
   "id": "2c798954",
   "metadata": {},
   "source": [
    "Test code to try"
   ]
  },
  {
   "cell_type": "code",
   "execution_count": 4,
   "id": "8648a4b0",
   "metadata": {},
   "outputs": [
    {
     "name": "stdout",
     "output_type": "stream",
     "text": [
      "1\n",
      "-1\n"
     ]
    }
   ],
   "source": [
    "print(signum(3))\n",
    "print(signum(-4))"
   ]
  },
  {
   "cell_type": "markdown",
   "id": "5bda4fe4",
   "metadata": {},
   "source": [
    "## Compute Output of w, x"
   ]
  },
  {
   "cell_type": "code",
   "execution_count": 5,
   "id": "74103d0c",
   "metadata": {},
   "outputs": [],
   "source": [
    "def compute_output(w, x):\n",
    "\tz = 0.0\n",
    "\tfor i in range(len(w)):\n",
    "\t\tz += x[i] * w[i]\n",
    "\treturn signum(z)"
   ]
  },
  {
   "cell_type": "markdown",
   "id": "8e8220c6",
   "metadata": {},
   "source": [
    "test compute output"
   ]
  },
  {
   "cell_type": "code",
   "execution_count": 6,
   "id": "02c6a15a",
   "metadata": {},
   "outputs": [
    {
     "data": {
      "text/plain": [
       "-1"
      ]
     },
     "execution_count": 6,
     "metadata": {},
     "output_type": "execute_result"
    }
   ],
   "source": [
    "compute_output([0.9, -0.6, -0.5], [1.0, -1.0, -1.0])\n",
    "compute_output([0.9, -0.6, -0.5], [1.0, 1.0, 1.0])"
   ]
  },
  {
   "cell_type": "markdown",
   "id": "4af3385d",
   "metadata": {},
   "source": [
    "## Code for Perceptron Learning"
   ]
  },
  {
   "cell_type": "code",
   "execution_count": 7,
   "id": "22901923",
   "metadata": {},
   "outputs": [],
   "source": [
    "import random\n",
    "\n",
    "def show_learning(w):\n",
    "    print('w0 = ', '%5.2f' % w[0], 'w1 = ', '%5.2f' % w[1], 'w0 = ', '%5.2f' % w[2] )\n",
    "\n",
    "\n",
    "random.seed(7)\n",
    "LEARNING_Rate = 0.1\n",
    "index_list = [0, 1, 2, 3]\n",
    "\n",
    "x_train = [(1.0, -1.0, -1.0), (1.0, -1.0, 1.0), (1.0, 1.0, -1.0), (1.0, 1.0, 1.0)]\n",
    "y_train = [1.0, 1.0, 1.0, -1.0]\n",
    "\n",
    "#weight\n",
    "w = [0.2, -0.6, 0.25]"
   ]
  },
  {
   "cell_type": "code",
   "execution_count": 8,
   "id": "504caebd",
   "metadata": {},
   "outputs": [
    {
     "name": "stdout",
     "output_type": "stream",
     "text": [
      "w0 =   0.20 w1 =  -0.60 w0 =   0.25\n"
     ]
    }
   ],
   "source": [
    "show_learning(w)"
   ]
  },
  {
   "cell_type": "markdown",
   "id": "a37c82a7",
   "metadata": {},
   "source": [
    "## Perceptron Training Loop Python Implementation"
   ]
  },
  {
   "cell_type": "code",
   "execution_count": 9,
   "id": "04f59095",
   "metadata": {},
   "outputs": [
    {
     "name": "stdout",
     "output_type": "stream",
     "text": [
      "w0 =   0.30 w1 =  -0.50 w0 =   0.15\n",
      "w0 =   0.40 w1 =  -0.40 w0 =   0.05\n",
      "w0 =   0.30 w1 =  -0.50 w0 =  -0.05\n",
      "w0 =   0.40 w1 =  -0.40 w0 =  -0.15\n"
     ]
    }
   ],
   "source": [
    "all_correct = False\n",
    "while not all_correct:\n",
    "    all_correct = True\n",
    "    random.shuffle(index_list)\n",
    "    for i in index_list:\n",
    "        x = x_train[i]\n",
    "        y = y_train[i]\n",
    "        p_out = compute_output(w, x)\n",
    "\n",
    "        if y != p_out:\n",
    "            for j in range(0, len(w)):\n",
    "                w[j] += (y * LEARNING_Rate * x[j])\n",
    "            all_correct = False\n",
    "            show_learning(w)\n",
    "    "
   ]
  },
  {
   "cell_type": "markdown",
   "id": "933c2a77",
   "metadata": {},
   "source": [
    "### Graph to produce showlearning"
   ]
  },
  {
   "cell_type": "code",
   "execution_count": 95,
   "id": "972da04a",
   "metadata": {},
   "outputs": [],
   "source": [
    "import matplotlib.pyplot as plt\n",
    "color_list = ['r-', 'm-', 'y-', 'c-', 'b-', 'g-']\n",
    "color_index = 0\n",
    "\n",
    "\n",
    "def show_learning_graph(w):\n",
    "    \n",
    "    global color_index\n",
    "    print('w0 = ', '%5.2f' % w[0], 'w1 = ', '%5.2f' % w[1], 'w2 = ', '%5.2f' % w[2] )\n",
    "    \n",
    "    if color_index == 0:\n",
    "        plt.plot([1.0], [1.0], 'b_', markersize=12)\n",
    "        plt.plot([-1.0, 1.0, -1.0], [1.0, -1.0, -1.0], 'r+', markersize=12)\n",
    "        plt.axis([-2, 2, -2, 2])\n",
    "        plt.xlabel('x1')\n",
    "        plt.ylabel('x2')\n",
    "    x = [-2.0, 2.0]\n",
    "\n",
    "    #This is for drawing decision boundary in the graph\n",
    "    if abs(w[2]) < 1e-5:\n",
    "        #calculate y value using equation, but avoiding division by zero\n",
    "        y = [-w[1]/(1e-5) * (-2.0)+(-w[0]/(1e-5)), -w[1]/(1e-5) * (2.0)+(-w[0]/(1e-5))]\n",
    "    else:\n",
    "        #calculate the y value using equation\n",
    "        y = [-w[1]/w[2] * (-2.0)+(-w[0]/w[2]), -w[1]/w[2] * (2.0)+(-w[0]/w[2])]\n",
    "\n",
    "    plt.plot(x, y, color_list[color_index])\n",
    "    if color_index < (len(color_list) -1):\n",
    "        color_index += 1\n",
    "    \n"
   ]
  },
  {
   "cell_type": "code",
   "execution_count": 96,
   "id": "ac235aba",
   "metadata": {},
   "outputs": [],
   "source": [
    "def test_show_learning_graph():\n",
    "    random.seed(7)\n",
    "    LEARNING_RATE = 0.1\n",
    "    index_list = [0, 1, 2, 3]\n",
    "    x_train = [(1.0, -1.0, -1.0), (1.0, -1.0, 1.0), (1.0, 1.0, -1.0), (1.0, 1.0, 1.0)]\n",
    "    y_train = [1.0, 1.0, 1.0, -1.0]\n",
    "\n",
    "\n",
    "\n",
    "    #weight \n",
    "    w = [0.2, -0.6, 0.25]\n",
    "    show_learning_graph(w)\n",
    "    all_correct = False\n",
    "    while not all_correct:\n",
    "        all_correct = True\n",
    "        random.shuffle(index_list)\n",
    "        for i in index_list:\n",
    "            x = x_train[i]\n",
    "            y = y_train[i]\n",
    "            p_out = compute_output(w, x)\n",
    "\n",
    "            if y != p_out:\n",
    "                for j in range(0, len(w)):\n",
    "                    w[j] += (y * LEARNING_RATE * x[j])\n",
    "                \n",
    "                show_learning_graph(w)\n",
    "                all_correct = False\n",
    "    "
   ]
  },
  {
   "cell_type": "code",
   "execution_count": 97,
   "id": "29f454d8",
   "metadata": {},
   "outputs": [
    {
     "name": "stdout",
     "output_type": "stream",
     "text": [
      "w0 =   0.20 w1 =  -0.60 w2 =   0.25\n",
      "w0 =   0.30 w1 =  -0.50 w2 =   0.15\n",
      "w0 =   0.40 w1 =  -0.40 w2 =   0.05\n",
      "w0 =   0.30 w1 =  -0.50 w2 =  -0.05\n",
      "w0 =   0.40 w1 =  -0.40 w2 =  -0.15\n"
     ]
    },
    {
     "data": {
      "image/png": "[encoded data removed]",
      "text/plain": [
       "<Figure size 640x480 with 1 Axes>"
      ]
     },
     "metadata": {},
     "output_type": "display_data"
    }
   ],
   "source": [
    "test_show_learning_graph()"
   ]
  },
  {
   "cell_type": "markdown",
   "id": "ead40e36",
   "metadata": {},
   "source": [
    "Using numpy to write dot product"
   ]
  },
  {
   "cell_type": "code",
   "execution_count": null,
   "id": "8aa72c44",
   "metadata": {},
   "outputs": [
    {
     "name": "stdout",
     "output_type": "stream",
     "text": [
      "1.0\n",
      "-1.0\n"
     ]
    }
   ],
   "source": [
    "import numpy as np\n",
    "def compute_output_vector(w, x):\n",
    "    z = np.dot(w, x)\n",
    "    return np.sign(z)\n",
    "print(compute_output_vector([0.9, -0.6, -0.5], [1.0, -1.0, -1.0]))\n",
    "print(compute_output_vector([0.9, -0.6, -0.5], [1.0, 1.0, 1.0]))"
   ]
  },
  {
   "cell_type": "code",
   "execution_count": 3,
   "id": "78e08340",
   "metadata": {},
   "outputs": [
    {
     "data": {
      "image/png": "[encoded data removed]",
      "text/plain": [
       "<Figure size 640x480 with 1 Axes>"
      ]
     },
     "metadata": {},
     "output_type": "display_data"
    }
   ],
   "source": [
    "import torch\n",
    "import matplotlib.pyplot as plt\n",
    "\n",
    "# constants\n",
    "x = torch.tensor(3.0)\n",
    "b = torch.tensor(1.0)\n",
    "y = torch.tensor(0.8)  # Note: sigmoid outputs only between 0 and 1, so y=4 is too large — let's adjust later\n",
    "\n",
    "# candidate weights\n",
    "w_vals = torch.linspace(-5, 5, 200)\n",
    "\n",
    "# define sigmoid\n",
    "def sigmoid(z):\n",
    "    return 1 / (1 + torch.exp(-z))\n",
    "\n",
    "# compute predictions and losses\n",
    "z_vals = w_vals * x + b\n",
    "a_vals = sigmoid(z_vals)\n",
    "loss_vals = 0.5 * (a_vals - y)**2\n",
    "\n",
    "# plot\n",
    "plt.plot(w_vals, loss_vals)\n",
    "plt.title(\"Loss as a function of w (Sigmoid Activation)\")\n",
    "plt.xlabel(\"w\")\n",
    "plt.ylabel(\"Loss\")\n",
    "plt.grid(True)\n",
    "plt.show()\n"
   ]
  }
 ],
 "metadata": {
  "kernelspec": {
   "display_name": "Python 3",
   "language": "python",
   "name": "python3"
  },
  "language_info": {
   "codemirror_mode": {
    "name": "ipython",
    "version": 3
   },
   "file_extension": ".py",
   "mimetype": "text/x-python",
   "name": "python",
   "nbconvert_exporter": "python",
   "pygments_lexer": "ipython3",
   "version": "3.12.11"
  }
 },
 "nbformat": 4,
 "nbformat_minor": 5
}
