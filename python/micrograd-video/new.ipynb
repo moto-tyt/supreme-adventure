{
 "cells": [
  {
   "cell_type": "code",
   "execution_count": null,
   "id": "b81e5d78",
   "metadata": {},
   "outputs": [],
   "source": [
    "#why its not in git?"
   ]
  }
 ],
 "metadata": {
  "language_info": {
   "name": "python"
  }
 },
 "nbformat": 4,
 "nbformat_minor": 5
}
