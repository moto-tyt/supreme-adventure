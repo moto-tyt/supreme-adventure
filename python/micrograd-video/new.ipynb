{
 "cells": [
  {
   "cell_type": "code",
   "execution_count": 1,
   "id": "b81e5d78",
   "metadata": {},
   "outputs": [
    {
     "name": "stdout",
     "output_type": "stream",
     "text": [
      "Import packages successfully!\n"
     ]
    }
   ],
   "source": [
    "import math\n",
    "import torch\n",
    "import random\n",
    "import librosa\n",
    "import torchvision\n",
    "import numpy as np\n",
    "import pandas as pd\n",
    "import torch.nn as nn\n",
    "import IPython.display as ipd\n",
    "import torch.nn.functional as F\n",
    "import matplotlib.pyplot as plt\n",
    "import torchvision.transforms as transforms\n",
    "from scipy.signal import resample\n",
    "\n",
    "print(\"Import packages successfully!\")"
   ]
  },
  {
   "cell_type": "code",
   "execution_count": 20,
   "id": "b026d904",
   "metadata": {},
   "outputs": [
    {
     "name": "stdout",
     "output_type": "stream",
     "text": [
      "tensor([[0.5943],\n",
      "        [0.8283]], requires_grad=True)\n",
      "tensor([[0.6644]], requires_grad=True)\n",
      "torch.Size([2, 1])\n",
      "torch.Size([1, 1])\n",
      "z tensor([[0.3948],\n",
      "        [0.5503]], grad_fn=<MmBackward0>)\n",
      "loss tensor(0.9451, grad_fn=<SumBackward0>)\n",
      "tensor([[0.6644],\n",
      "        [0.6644]])\n",
      "tensor([[1.4226]])\n"
     ]
    }
   ],
   "source": [
    "x = torch.randn(2, 1, requires_grad=True)\n",
    "y = torch.randn(1, 1, requires_grad=True)\n",
    "z = x @ y\n",
    "print(x)\n",
    "print(y)\n",
    "print(x.size())\n",
    "print(y.size())\n",
    "print(\"z\", z)\n",
    "loss = z.sum()\n",
    "print(\"loss\", loss)\n",
    "loss.backward()\n",
    "print(x.grad)\n",
    "print(y.grad)\n"
   ]
  },
  {
   "cell_type": "code",
   "execution_count": null,
   "id": "02c9d6d3",
   "metadata": {},
   "outputs": [],
   "source": []
  }
 ],
 "metadata": {
  "kernelspec": {
   "display_name": "Python 3",
   "language": "python",
   "name": "python3"
  },
  "language_info": {
   "codemirror_mode": {
    "name": "ipython",
    "version": 3
   },
   "file_extension": ".py",
   "mimetype": "text/x-python",
   "name": "python",
   "nbconvert_exporter": "python",
   "pygments_lexer": "ipython3",
   "version": "3.12.11"
  }
 },
 "nbformat": 4,
 "nbformat_minor": 5
}
